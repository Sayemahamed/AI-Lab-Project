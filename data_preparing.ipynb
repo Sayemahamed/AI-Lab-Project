{
  "cells": [
    {
      "cell_type": "code",
      "execution_count": null,
      "metadata": {
        "colab": {
          "base_uri": "https://localhost:8080/"
        },
        "id": "qpxjsuXhiEb4",
        "outputId": "fb406ed5-4ec7-4b0a-e876-87cbb51a77f4"
      },
      "outputs": [
        {
          "metadata": {
            "tags": null
          },
          "name": "stdout",
          "output_type": "stream",
          "text": [
            "  % Total    % Received % Xferd  Average Speed   Time    Time     Time  Current\n",
            "                                 Dload  Upload   Total   Spent    Left  Speed\n",
            "  0     0    0     0    0     0      0      0 --:--:-- --:--:-- --:--:--     0\n",
            "100  778M  100  778M    0     0  20.3M      0  0:00:38  0:00:38 --:--:-- 20.4M\n",
            "Archive:  RawRadiographyDataSet.zip\n",
            "replace COVID-19_Radiography_Dataset/COVID.metadata.xlsx? [y]es, [n]o, [A]ll, [N]one, [r]ename: "
          ]
        }
      ],
      "source": [
        "!curl -L -o RawRadiographyDataSet.zip\\\n",
        "https://www.kaggle.com/api/v1/datasets/download/tawsifurrahman/covid19-radiography-database\n",
        "!unzip RawRadiographyDataSet.zip\n",
        "!rm -rf sample_data\n",
        "!rm -rf RawRadiographyDataSet.zip\n",
        "!rm -rf COVID-19_Radiography_Dataset/Viral\n",
        "!rm -rf COVID-19_Radiography_Dataset/Viral\\ Pneumonia.metadata.xlsx\n",
        "!rm -rf COVID-19_Radiography_Dataset/Lung_Opacity\n",
        "!rm -rf COVID-19_Radiography_Dataset/Lung_Opacity.metadata.xlsx"
      ]
    },
    {
      "cell_type": "code",
      "source": [
        "from google.colab import drive\n",
        "drive.mount()"
      ],
      "metadata": {
        "id": "P1oon884iK5h"
      },
      "execution_count": null,
      "outputs": []
    }
  ],
  "metadata": {
    "kernelspec": {
      "display_name": "Python 3",
      "name": "python3"
    },
    "language_info": {
      "codemirror_mode": {
        "name": "ipython",
        "version": 3
      },
      "file_extension": ".py",
      "mimetype": "text/x-python",
      "name": "python",
      "nbconvert_exporter": "python",
      "pygments_lexer": "ipython3",
      "version": "3.12.7"
    },
    "colab": {
      "provenance": [],
      "gpuType": "T4"
    },
    "accelerator": "GPU"
  },
  "nbformat": 4,
  "nbformat_minor": 0
}